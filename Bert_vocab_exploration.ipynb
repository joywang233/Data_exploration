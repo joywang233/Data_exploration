{
  "nbformat": 4,
  "nbformat_minor": 0,
  "metadata": {
    "colab": {
      "name": "Bert_vocab_exploration.ipynb",
      "provenance": [],
      "collapsed_sections": []
    },
    "kernelspec": {
      "name": "python3",
      "display_name": "Python 3"
    },
    "language_info": {
      "name": "python"
    }
  },
  "cells": [
    {
      "cell_type": "code",
      "metadata": {
        "colab": {
          "base_uri": "https://localhost:8080/"
        },
        "id": "L2K7TlZgc9MJ",
        "outputId": "dc8ae9bf-e33f-442a-e566-77a2434d7b07"
      },
      "source": [
        "!pip install pytorch-pretrained-bert "
      ],
      "execution_count": 1,
      "outputs": [
        {
          "output_type": "stream",
          "name": "stdout",
          "text": [
            "Collecting pytorch-pretrained-bert\n",
            "  Downloading pytorch_pretrained_bert-0.6.2-py3-none-any.whl (123 kB)\n",
            "\u001b[K     |████████████████████████████████| 123 kB 4.1 MB/s \n",
            "\u001b[?25hCollecting boto3\n",
            "  Downloading boto3-1.19.2-py3-none-any.whl (131 kB)\n",
            "\u001b[K     |████████████████████████████████| 131 kB 34.1 MB/s \n",
            "\u001b[?25hRequirement already satisfied: torch>=0.4.1 in /usr/local/lib/python3.7/dist-packages (from pytorch-pretrained-bert) (1.9.0+cu111)\n",
            "Requirement already satisfied: tqdm in /usr/local/lib/python3.7/dist-packages (from pytorch-pretrained-bert) (4.62.3)\n",
            "Requirement already satisfied: regex in /usr/local/lib/python3.7/dist-packages (from pytorch-pretrained-bert) (2019.12.20)\n",
            "Requirement already satisfied: requests in /usr/local/lib/python3.7/dist-packages (from pytorch-pretrained-bert) (2.23.0)\n",
            "Requirement already satisfied: numpy in /usr/local/lib/python3.7/dist-packages (from pytorch-pretrained-bert) (1.19.5)\n",
            "Requirement already satisfied: typing-extensions in /usr/local/lib/python3.7/dist-packages (from torch>=0.4.1->pytorch-pretrained-bert) (3.7.4.3)\n",
            "Collecting s3transfer<0.6.0,>=0.5.0\n",
            "  Downloading s3transfer-0.5.0-py3-none-any.whl (79 kB)\n",
            "\u001b[K     |████████████████████████████████| 79 kB 7.3 MB/s \n",
            "\u001b[?25hCollecting botocore<1.23.0,>=1.22.2\n",
            "  Downloading botocore-1.22.2-py3-none-any.whl (8.0 MB)\n",
            "\u001b[K     |████████████████████████████████| 8.0 MB 55.3 MB/s \n",
            "\u001b[?25hCollecting jmespath<1.0.0,>=0.7.1\n",
            "  Downloading jmespath-0.10.0-py2.py3-none-any.whl (24 kB)\n",
            "Collecting urllib3<1.27,>=1.25.4\n",
            "  Downloading urllib3-1.26.7-py2.py3-none-any.whl (138 kB)\n",
            "\u001b[K     |████████████████████████████████| 138 kB 41.0 MB/s \n",
            "\u001b[?25hRequirement already satisfied: python-dateutil<3.0.0,>=2.1 in /usr/local/lib/python3.7/dist-packages (from botocore<1.23.0,>=1.22.2->boto3->pytorch-pretrained-bert) (2.8.2)\n",
            "Requirement already satisfied: six>=1.5 in /usr/local/lib/python3.7/dist-packages (from python-dateutil<3.0.0,>=2.1->botocore<1.23.0,>=1.22.2->boto3->pytorch-pretrained-bert) (1.15.0)\n",
            "Requirement already satisfied: certifi>=2017.4.17 in /usr/local/lib/python3.7/dist-packages (from requests->pytorch-pretrained-bert) (2021.5.30)\n",
            "Requirement already satisfied: idna<3,>=2.5 in /usr/local/lib/python3.7/dist-packages (from requests->pytorch-pretrained-bert) (2.10)\n",
            "  Downloading urllib3-1.25.11-py2.py3-none-any.whl (127 kB)\n",
            "\u001b[K     |████████████████████████████████| 127 kB 55.8 MB/s \n",
            "\u001b[?25hRequirement already satisfied: chardet<4,>=3.0.2 in /usr/local/lib/python3.7/dist-packages (from requests->pytorch-pretrained-bert) (3.0.4)\n",
            "Installing collected packages: urllib3, jmespath, botocore, s3transfer, boto3, pytorch-pretrained-bert\n",
            "  Attempting uninstall: urllib3\n",
            "    Found existing installation: urllib3 1.24.3\n",
            "    Uninstalling urllib3-1.24.3:\n",
            "      Successfully uninstalled urllib3-1.24.3\n",
            "\u001b[31mERROR: pip's dependency resolver does not currently take into account all the packages that are installed. This behaviour is the source of the following dependency conflicts.\n",
            "datascience 0.10.6 requires folium==0.2.1, but you have folium 0.8.3 which is incompatible.\u001b[0m\n",
            "Successfully installed boto3-1.19.2 botocore-1.22.2 jmespath-0.10.0 pytorch-pretrained-bert-0.6.2 s3transfer-0.5.0 urllib3-1.25.11\n"
          ]
        }
      ]
    },
    {
      "cell_type": "code",
      "metadata": {
        "colab": {
          "base_uri": "https://localhost:8080/"
        },
        "id": "DM0wEjAWdPft",
        "outputId": "0a1beb77-9a74-486d-8010-ce4e11bc9132"
      },
      "source": [
        "import torch \n",
        "from pytorch_pretrained_bert import BertTokenizer \n",
        "tokenizer = BertTokenizer.from_pretrained('bert-base-uncased')"
      ],
      "execution_count": 2,
      "outputs": [
        {
          "output_type": "stream",
          "name": "stderr",
          "text": [
            "100%|██████████| 231508/231508 [00:00<00:00, 318170.37B/s]\n"
          ]
        }
      ]
    },
    {
      "cell_type": "code",
      "metadata": {
        "colab": {
          "base_uri": "https://localhost:8080/"
        },
        "id": "-7n0lagRdhlt",
        "outputId": "bfcf3f08-6826-46c8-bf3c-4dcf62535f63"
      },
      "source": [
        "# this is to write the vocab as a txt file \n",
        "with open('vocabulary.txt', 'w') as f:\n",
        "  for token in tokenizer.vocab.keys():\n",
        "      f.write(token + '\\n')\n",
        "  print(len(tokenizer.vocab),type(tokenizer.vocab)) #30522"
      ],
      "execution_count": 10,
      "outputs": [
        {
          "output_type": "stream",
          "name": "stdout",
          "text": [
            "30522 <class 'collections.OrderedDict'>\n"
          ]
        }
      ]
    },
    {
      "cell_type": "markdown",
      "metadata": {
        "id": "3KscDte-gFjN"
      },
      "source": [
        "Inspecting the vocab txt, the first 1000 are special tokens then comes with characters. \n",
        "The 1st word is 'the' at position 1997, seems sorted by frequency since there? \n",
        "1-[PAD]\n",
        "101-[UNK]\n",
        "102-[CLS]\n",
        "103-[SEP]\n",
        "104-[MASK]"
      ]
    },
    {
      "cell_type": "code",
      "metadata": {
        "colab": {
          "base_uri": "https://localhost:8080/"
        },
        "id": "xcuIuITVhmXA",
        "outputId": "7afaa33f-032c-4641-9aa9-0baf9f6e080c"
      },
      "source": [
        "one_chars = []\n",
        "one_chars_hashes = []\n",
        "\n",
        "for token in tokenizer.vocab.keys():\n",
        "  if len(token) ==1:#single char tokens\n",
        "    one_chars.append(token)\n",
        "\n",
        "  elif len(token) == 3 and token[0:2] == '##':\n",
        "    one_chars_hashes.append(token)\n",
        "\n",
        "#number of single character\n",
        "print('Number of single character tokens:', len(one_chars), '\\n')\n",
        "for i in range(0, len(one_chars), 40):\n",
        "  end = min(i+40, len(one_chars)+1)\n",
        "  print(''.join(one_chars[i:end]))\n"
      ],
      "execution_count": 21,
      "outputs": [
        {
          "output_type": "stream",
          "name": "stdout",
          "text": [
            "Number of single character tokens: 997 \n",
            "\n",
            "!\"#$%&'()*+,-./0123456789:;<=>?@[\\]^_`ab\n",
            "cdefghijklmnopqrstuvwxyz{|}~¡¢£¤¥¦§¨©ª«¬\n",
            "®°±²³´µ¶·¹º»¼½¾¿×ßæð÷øþđħıłŋœƒɐɑɒɔɕəɛɡɣɨ\n",
            "ɪɫɬɯɲɴɹɾʀʁʂʃʉʊʋʌʎʐʑʒʔʰʲʳʷʸʻʼʾʿˈːˡˢˣˤαβγδ\n",
            "εζηθικλμνξοπρςστυφχψωабвгдежзиклмнопрсту\n",
            "фхцчшщъыьэюяђєіјљњћӏաբգդեթիլկհմյնոպսվտրւ\n",
            "ք־אבגדהוזחטיךכלםמןנסעףפץצקרשת،ءابةتثجحخد\n",
            "ذرزسشصضطظعغـفقكلمنهوىيٹپچکگںھہیےअआउएकखगच\n",
            "जटडणतथदधनपबभमयरलवशषसहािीो।॥ংঅআইউএওকখগচছজ\n",
            "টডণতথদধনপবভমযরলশষসহািীেகசடதநனபமயரலளவாிுே\n",
            "ைನರಾකයරලවාกงตทนพมยรลวสอาเ་།གངདནཔབམའརལསမა\n",
            "ბგდევთიკლმნორსტუᄀᄂᄃᄅᄆᄇᄉᄊᄋᄌᄎᄏᄐᄑ하ᅢᅥᅦᅧᅩᅪᅭᅮ\n",
            "ᅯᅲᅳᅴᅵᆨᆫᆯᆷᆸᆼᴬᴮᴰᴵᴺᵀᵃᵇᵈᵉᵍᵏᵐᵒᵖᵗᵘᵢᵣᵤᵥᶜᶠ‐‑‒–—―\n",
            "‖‘’‚“”„†‡•…‰′″›‿⁄⁰ⁱ⁴⁵⁶⁷⁸⁹⁺⁻ⁿ₀₁₂₃₄₅₆₇₈₉₊₍\n",
            "₎ₐₑₒₓₕₖₗₘₙₚₛₜ₤₩€₱₹ℓ№ℝ™⅓⅔←↑→↓↔↦⇄⇌⇒∂∅∆∇∈−∗\n",
            "∘√∞∧∨∩∪≈≡≤≥⊂⊆⊕⊗⋅─│■▪●★☆☉♠♣♥♦♭♯⟨⟩ⱼ⺩⺼⽥、。〈〉\n",
            "《》「」『』〜あいうえおかきくけこさしすせそたちっつてとなにぬねのはひふへほまみ\n",
            "むめもやゆよらりるれろをんァアィイウェエオカキクケコサシスセタチッツテトナニノハ\n",
            "ヒフヘホマミムメモャュョラリルレロワン・ー一三上下不世中主久之也事二五井京人亻仁\n",
            "介代仮伊会佐侍保信健元光八公内出分前劉力加勝北区十千南博原口古史司合吉同名和囗四\n",
            "国國土地坂城堂場士夏外大天太夫奈女子学宀宇安宗定宣宮家宿寺將小尚山岡島崎川州巿帝\n",
            "平年幸广弘張彳後御德心忄志忠愛成我戦戸手扌政文新方日明星春昭智曲書月有朝木本李村\n",
            "東松林森楊樹橋歌止正武比氏民水氵氷永江沢河治法海清漢瀬火版犬王生田男疒発白的皇目\n",
            "相省真石示社神福禾秀秋空立章竹糹美義耳良艹花英華葉藤行街西見訁語谷貝貴車軍辶道郎\n",
            "郡部都里野金鈴镇長門間阝阿陳陽雄青面風食香馬高龍龸ﬁﬂ！（），－．／：？～\n"
          ]
        }
      ]
    },
    {
      "cell_type": "code",
      "metadata": {
        "colab": {
          "base_uri": "https://localhost:8080/"
        },
        "id": "uomwCHi_l3Xh",
        "outputId": "68e7fc08-38be-4867-c6de-c6751c83a524"
      },
      "source": [
        "print('number of single character tokens with hashes:', len(one_chars_hashes),'\\n') #sorted by frequency>??\n",
        "tokens = [token.replace('##','') for token in one_chars_hashes]\n",
        "for i in range(0, len(tokens), 40): #40 element per row\n",
        "  end = min(i+40, len(tokens)+1)\n",
        "  print(''.join(tokens[i:end]))"
      ],
      "execution_count": 22,
      "outputs": [
        {
          "output_type": "stream",
          "name": "stdout",
          "text": [
            "number of single character tokens with hashes: 997 \n",
            "\n",
            "saeinodrytlmuhkcgp2z1b3f467xv8590wjq°₂аи\n",
            "²₃ı₁⁺½оهيαеدنνøр₄₀رя³ιłнᵢₙßةςم−тːلьк♭ηیв\n",
            "ا×¹ыהɛл!\"#$%&'()*+,-./:;<=>?@[\\]^_`{|}~¡\n",
            "¢£¤¥¦§¨©ª«¬®±´µ¶·º»¼¾¿æð÷þđħŋœƒɐɑɒɔɕəɡɣɨ\n",
            "ɪɫɬɯɲɴɹɾʀʁʂʃʉʊʋʌʎʐʑʒʔʰʲʳʷʸʻʼʾʿˈˡˢˣˤβγδεζ\n",
            "θκλμξοπρστυφχψωбгджзмпсуфхцчшщъэюђєіјљњћ\n",
            "ӏաբգդեթիլկհմյնոպսվտրւք־אבגדוזחטיךכלםמןנס\n",
            "עףפץצקרשת،ءبتثجحخذزسشصضطظعغـفقكوىٹپچکگںھ\n",
            "ہےअआउएकखगचजटडणतथदधनपबभमयरलवशषसहािीो।॥ংঅআ\n",
            "ইউএওকখগচছজটডণতথদধনপবভমযরলশষসহািীেகசடதநனப\n",
            "மயரலளவாிுேைನರಾකයරලවාกงตทนพมยรลวสอาเ་།གངད\n",
            "ནཔབམའརལསမაბგდევთიკლმნორსტუᄀᄂᄃᄅᄆᄇᄉᄊᄋᄌᄎᄏᄐᄑ\n",
            "하ᅢᅥᅦᅧᅩᅪᅭᅮᅯᅲᅳᅴᅵᆨᆫᆯᆷᆸᆼᴬᴮᴰᴵᴺᵀᵃᵇᵈᵉᵍᵏᵐᵒᵖᵗᵘᵣᵤ\n",
            "ᵥᶜᶠ‐‑‒–—―‖‘’‚“”„†‡•…‰′″›‿⁄⁰ⁱ⁴⁵⁶⁷⁸⁹⁻ⁿ₅₆₇₈\n",
            "₉₊₍₎ₐₑₒₓₕₖₗₘₚₛₜ₤₩€₱₹ℓ№ℝ™⅓⅔←↑→↓↔↦⇄⇌⇒∂∅∆∇∈\n",
            "∗∘√∞∧∨∩∪≈≡≤≥⊂⊆⊕⊗⋅─│■▪●★☆☉♠♣♥♦♯⟨⟩ⱼ⺩⺼⽥、。〈〉\n",
            "《》「」『』〜あいうえおかきくけこさしすせそたちっつてとなにぬねのはひふへほまみ\n",
            "むめもやゆよらりるれろをんァアィイウェエオカキクケコサシスセタチッツテトナニノハ\n",
            "ヒフヘホマミムメモャュョラリルレロワン・ー一三上下不世中主久之也事二五井京人亻仁\n",
            "介代仮伊会佐侍保信健元光八公内出分前劉力加勝北区十千南博原口古史司合吉同名和囗四\n",
            "国國土地坂城堂場士夏外大天太夫奈女子学宀宇安宗定宣宮家宿寺將小尚山岡島崎川州巿帝\n",
            "平年幸广弘張彳後御德心忄志忠愛成我戦戸手扌政文新方日明星春昭智曲書月有朝木本李村\n",
            "東松林森楊樹橋歌止正武比氏民水氵氷永江沢河治法海清漢瀬火版犬王生田男疒発白的皇目\n",
            "相省真石示社神福禾秀秋空立章竹糹美義耳良艹花英華葉藤行街西見訁語谷貝貴車軍辶道郎\n",
            "郡部都里野金鈴镇長門間阝阿陳陽雄青面風食香馬高龍龸ﬁﬂ！（），－．／：？～\n"
          ]
        }
      ]
    },
    {
      "cell_type": "code",
      "metadata": {
        "colab": {
          "base_uri": "https://localhost:8080/"
        },
        "id": "Ug3G1C6JnWH1",
        "outputId": "27c4cc88-d20f-4037-e50c-833c5c9e1eaf"
      },
      "source": [
        "print('Are the two sets identical?', set(one_chars) == set(tokens))"
      ],
      "execution_count": 23,
      "outputs": [
        {
          "output_type": "stream",
          "name": "stdout",
          "text": [
            "Are the two sets identical? True\n"
          ]
        }
      ]
    },
    {
      "cell_type": "code",
      "metadata": {
        "id": "ZHY1rcwnq_k0"
      },
      "source": [
        "import matplotlib.pyplot as plt\n",
        "import seaborn as sns\n",
        "import numpy as np\n",
        "\n",
        "sns.set(style= 'darkgrid')\n",
        "sns.set(font_scale = 1.5)\n",
        "plt.rcParams['figure.figsize'] = (10,5)"
      ],
      "execution_count": 26,
      "outputs": []
    },
    {
      "cell_type": "code",
      "metadata": {
        "colab": {
          "base_uri": "https://localhost:8080/",
          "height": 443
        },
        "id": "kNlkso-DrgWV",
        "outputId": "67fb1fd6-e55f-49f5-92a1-f28d22ec014b"
      },
      "source": [
        "token_lengths = [len(token) for token in tokenizer.vocab.keys()] # a list of numbers(len(token))\n",
        "sns.countplot(token_lengths)\n",
        "plt.title('Vocab Token Lengths')\n",
        "plt.xlabel('Token Length')\n",
        "plt.ylabel('# of Tokens')\n",
        "\n",
        "print('Maximum token length:', max(token_lengths))"
      ],
      "execution_count": 28,
      "outputs": [
        {
          "output_type": "stream",
          "name": "stderr",
          "text": [
            "/usr/local/lib/python3.7/dist-packages/seaborn/_decorators.py:43: FutureWarning: Pass the following variable as a keyword arg: x. From version 0.12, the only valid positional argument will be `data`, and passing other arguments without an explicit keyword will result in an error or misinterpretation.\n",
            "  FutureWarning\n"
          ]
        },
        {
          "output_type": "stream",
          "name": "stdout",
          "text": [
            "Maximum token length: 18\n"
          ]
        },
        {
          "output_type": "display_data",
          "data": {
            "image/png": "[encoded data removed]",
            "text/plain": [
              "<Figure size 720x360 with 1 Axes>"
            ]
          },
          "metadata": {}
        }
      ]
    },
    {
      "cell_type": "code",
      "metadata": {
        "colab": {
          "base_uri": "https://localhost:8080/",
          "height": 477
        },
        "id": "2swdMJpRufPh",
        "outputId": "e2d9c603-4855-4e5c-c35a-a060203adc23"
      },
      "source": [
        "# take a look at tokens begin with ##\n",
        "num_subwords = 0\n",
        "subword_lengths = []\n",
        "\n",
        "for token in tokenizer.vocab.keys():\n",
        "  if len(token) >=2 and token[0:2] == '##':\n",
        "    num_subwords += 1\n",
        "    length = len(token)-2\n",
        "    subword_lengths.append(length)\n",
        "\n",
        "vocab_size = len(tokenizer.vocab.keys())\n",
        "print('Number of subwords: {:,} of {:,}'.format(num_subwords, vocab_size))\n",
        "# look at the percentage of ##subword out of vocab\n",
        "prcnt = float(num_subwords) / vocab_size *100.0\n",
        "print('%.1f%%' % prcnt)\n",
        "\n",
        "########################################make some plot###################################\n",
        "sns.countplot(subword_lengths)\n",
        "plt.title('Subword Token Lengths (w/o \"##\")')\n",
        "plt.xlabel('Subword length')\n",
        "plt.ylabel('# of ## subwords')"
      ],
      "execution_count": 30,
      "outputs": [
        {
          "output_type": "stream",
          "name": "stdout",
          "text": [
            "Number of subwords: 5,828 of 30,522\n",
            "19.1%\n"
          ]
        },
        {
          "output_type": "stream",
          "name": "stderr",
          "text": [
            "/usr/local/lib/python3.7/dist-packages/seaborn/_decorators.py:43: FutureWarning: Pass the following variable as a keyword arg: x. From version 0.12, the only valid positional argument will be `data`, and passing other arguments without an explicit keyword will result in an error or misinterpretation.\n",
            "  FutureWarning\n"
          ]
        },
        {
          "output_type": "execute_result",
          "data": {
            "text/plain": [
              "Text(0, 0.5, '# of ## subwords')"
            ]
          },
          "metadata": {},
          "execution_count": 30
        },
        {
          "output_type": "display_data",
          "data": {
            "image/png": "[encoded data removed]",
            "text/plain": [
              "<Figure size 720x360 with 1 Axes>"
            ]
          },
          "metadata": {}
        }
      ]
    }
  ]
}